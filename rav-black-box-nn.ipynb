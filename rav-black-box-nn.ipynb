{
 "cells": [
  {
   "cell_type": "code",
   "execution_count": 1,
   "id": "5a940515",
   "metadata": {
    "_cell_guid": "b1076dfc-b9ad-4769-8c92-a6c4dae69d19",
    "_uuid": "8f2839f25d086af736a60e9eeb907d3b93b6e0e5",
    "execution": {
     "iopub.execute_input": "2022-10-20T12:28:35.035710Z",
     "iopub.status.busy": "2022-10-20T12:28:35.035220Z",
     "iopub.status.idle": "2022-10-20T12:28:35.088492Z",
     "shell.execute_reply": "2022-10-20T12:28:35.087065Z"
    },
    "papermill": {
     "duration": 0.068013,
     "end_time": "2022-10-20T12:28:35.091723",
     "exception": false,
     "start_time": "2022-10-20T12:28:35.023710",
     "status": "completed"
    },
    "tags": []
   },
   "outputs": [
    {
     "name": "stdout",
     "output_type": "stream",
     "text": [
      "/kaggle/input/mnist-dataset/train-images.idx3-ubyte\n",
      "/kaggle/input/mnist-dataset/t10k-labels.idx1-ubyte\n",
      "/kaggle/input/mnist-dataset/t10k-images.idx3-ubyte\n",
      "/kaggle/input/mnist-dataset/train-labels.idx1-ubyte\n",
      "/kaggle/input/mnist-dataset/t10k-labels-idx1-ubyte/t10k-labels-idx1-ubyte\n",
      "/kaggle/input/mnist-dataset/t10k-images-idx3-ubyte/t10k-images-idx3-ubyte\n",
      "/kaggle/input/mnist-dataset/train-labels-idx1-ubyte/train-labels-idx1-ubyte\n",
      "/kaggle/input/mnist-dataset/train-images-idx3-ubyte/train-images-idx3-ubyte\n"
     ]
    }
   ],
   "source": [
    "# This Python 3 environment comes with many helpful analytics libraries installed\n",
    "# It is defined by the kaggle/python Docker image: https://github.com/kaggle/docker-python\n",
    "# For example, here's several helpful packages to load\n",
    "\n",
    "import numpy as np # linear algebra\n",
    "import pandas as pd # data processing, CSV file I/O (e.g. pd.read_csv)\n",
    "\n",
    "# Input data files are available in the read-only \"../input/\" directory\n",
    "# For example, running this (by clicking run or pressing Shift+Enter) will list all files under the input directory\n",
    "\n",
    "import os\n",
    "for dirname, _, filenames in os.walk('/kaggle/input'):\n",
    "    for filename in filenames:\n",
    "        print(os.path.join(dirname, filename))\n",
    "\n",
    "# You can write up to 20GB to the current directory (/kaggle/working/) that gets preserved as output when you create a version using \"Save & Run All\" \n",
    "# You can also write temporary files to /kaggle/temp/, but they won't be saved outside of the current session"
   ]
  },
  {
   "cell_type": "markdown",
   "id": "caa492c8",
   "metadata": {
    "papermill": {
     "duration": 0.008528,
     "end_time": "2022-10-20T12:28:35.109504",
     "exception": false,
     "start_time": "2022-10-20T12:28:35.100976",
     "status": "completed"
    },
    "tags": []
   },
   "source": [
    "# Goals"
   ]
  },
  {
   "cell_type": "markdown",
   "id": "c084c596",
   "metadata": {
    "papermill": {
     "duration": 0.008324,
     "end_time": "2022-10-20T12:28:35.126477",
     "exception": false,
     "start_time": "2022-10-20T12:28:35.118153",
     "status": "completed"
    },
    "tags": []
   },
   "source": [
    "***Our goal is to build and train a neural network, which recognizes handwritten digits with a mind-blowing accuracy. It will be able to recognize the digits from 0 to 9***"
   ]
  },
  {
   "cell_type": "markdown",
   "id": "c0e453bb",
   "metadata": {
    "papermill": {
     "duration": 0.008505,
     "end_time": "2022-10-20T12:28:35.143720",
     "exception": false,
     "start_time": "2022-10-20T12:28:35.135215",
     "status": "completed"
    },
    "tags": []
   },
   "source": [
    "# Importing Libraries"
   ]
  },
  {
   "cell_type": "code",
   "execution_count": 2,
   "id": "f7911ae4",
   "metadata": {
    "execution": {
     "iopub.execute_input": "2022-10-20T12:28:35.162924Z",
     "iopub.status.busy": "2022-10-20T12:28:35.162368Z",
     "iopub.status.idle": "2022-10-20T12:28:40.782181Z",
     "shell.execute_reply": "2022-10-20T12:28:40.781121Z"
    },
    "papermill": {
     "duration": 5.632906,
     "end_time": "2022-10-20T12:28:40.785262",
     "exception": false,
     "start_time": "2022-10-20T12:28:35.152356",
     "status": "completed"
    },
    "tags": []
   },
   "outputs": [],
   "source": [
    "import tensorflow as tf\n",
    "import numpy as np\n",
    "import matplotlib.pyplot as plt\n",
    "import cv2"
   ]
  },
  {
   "cell_type": "markdown",
   "id": "724fa09c",
   "metadata": {
    "papermill": {
     "duration": 0.008454,
     "end_time": "2022-10-20T12:28:40.804722",
     "exception": false,
     "start_time": "2022-10-20T12:28:40.796268",
     "status": "completed"
    },
    "tags": []
   },
   "source": [
    "* ***tensorflow - Used for model and to train our network***\n",
    "* ***numpy - Used for reformatting***\n",
    "* ***matplotlib.pyplot - Used for visualization***\n",
    "* ***cv - Used for fitting image***"
   ]
  },
  {
   "cell_type": "markdown",
   "id": "accd0458",
   "metadata": {
    "papermill": {
     "duration": 0.008431,
     "end_time": "2022-10-20T12:28:40.821940",
     "exception": false,
     "start_time": "2022-10-20T12:28:40.813509",
     "status": "completed"
    },
    "tags": []
   },
   "source": [
    "# Loading and Preparing Data"
   ]
  },
  {
   "cell_type": "markdown",
   "id": "bc7f09b6",
   "metadata": {
    "papermill": {
     "duration": 0.008413,
     "end_time": "2022-10-20T12:28:40.839174",
     "exception": false,
     "start_time": "2022-10-20T12:28:40.830761",
     "status": "completed"
    },
    "tags": []
   },
   "source": [
    "* ***MNIST dataset contains 60,000 training examples and 10,000 testing examples of handwritten digits that are already classified correctly***\n",
    "* ***These images have a resolution of 28x28 pixels.***\n",
    "* ***We will use the keras module to load the dataset.***\n",
    "* ***we call the load_function dataset. This function automatically splits the data appropriately and returns a tuple with the training data and a tuple with the testing data.***"
   ]
  },
  {
   "cell_type": "code",
   "execution_count": 3,
   "id": "a98dfda2",
   "metadata": {
    "execution": {
     "iopub.execute_input": "2022-10-20T12:28:40.859723Z",
     "iopub.status.busy": "2022-10-20T12:28:40.858679Z",
     "iopub.status.idle": "2022-10-20T12:28:42.698905Z",
     "shell.execute_reply": "2022-10-20T12:28:42.697669Z"
    },
    "papermill": {
     "duration": 1.853613,
     "end_time": "2022-10-20T12:28:42.701724",
     "exception": false,
     "start_time": "2022-10-20T12:28:40.848111",
     "status": "completed"
    },
    "tags": []
   },
   "outputs": [
    {
     "name": "stdout",
     "output_type": "stream",
     "text": [
      "Downloading data from https://storage.googleapis.com/tensorflow/tf-keras-datasets/mnist.npz\n",
      "11493376/11490434 [==============================] - 0s 0us/step\n",
      "11501568/11490434 [==============================] - 0s 0us/step\n"
     ]
    }
   ],
   "source": [
    "(X_train, y_train), (X_test, y_test) = tf.keras.datasets.mnist.load_data()"
   ]
  },
  {
   "cell_type": "code",
   "execution_count": 4,
   "id": "ba12eb81",
   "metadata": {
    "execution": {
     "iopub.execute_input": "2022-10-20T12:28:42.722183Z",
     "iopub.status.busy": "2022-10-20T12:28:42.721369Z",
     "iopub.status.idle": "2022-10-20T12:28:42.728421Z",
     "shell.execute_reply": "2022-10-20T12:28:42.727144Z"
    },
    "papermill": {
     "duration": 0.020113,
     "end_time": "2022-10-20T12:28:42.731039",
     "exception": false,
     "start_time": "2022-10-20T12:28:42.710926",
     "status": "completed"
    },
    "tags": []
   },
   "outputs": [
    {
     "name": "stdout",
     "output_type": "stream",
     "text": [
      "Training Input Shape: (60000, 28, 28)\n",
      "Training Lables Shape: (60000,)\n",
      "Testing Input Shape: (10000, 28, 28)\n",
      "Testing Label Shape: (10000,)\n"
     ]
    }
   ],
   "source": [
    "print('Training Input Shape:', X_train.shape)\n",
    "print('Training Lables Shape:',y_train.shape)\n",
    "print('Testing Input Shape:',X_test.shape)\n",
    "print('Testing Label Shape:',y_test.shape)"
   ]
  },
  {
   "cell_type": "markdown",
   "id": "ab0f8377",
   "metadata": {
    "papermill": {
     "duration": 0.009002,
     "end_time": "2022-10-20T12:28:42.749196",
     "exception": false,
     "start_time": "2022-10-20T12:28:42.740194",
     "status": "completed"
    },
    "tags": []
   },
   "source": [
    "# Visualization the data "
   ]
  },
  {
   "cell_type": "code",
   "execution_count": 5,
   "id": "b5304720",
   "metadata": {
    "execution": {
     "iopub.execute_input": "2022-10-20T12:28:42.770071Z",
     "iopub.status.busy": "2022-10-20T12:28:42.768755Z",
     "iopub.status.idle": "2022-10-20T12:28:43.851265Z",
     "shell.execute_reply": "2022-10-20T12:28:43.850103Z"
    },
    "papermill": {
     "duration": 1.095556,
     "end_time": "2022-10-20T12:28:43.853896",
     "exception": false,
     "start_time": "2022-10-20T12:28:42.758340",
     "status": "completed"
    },
    "tags": []
   },
   "outputs": [
    {
     "data": {
      "image/png": "[encoded data removed]",
      "text/plain": [
       "<Figure size 432x288 with 9 Axes>"
      ]
     },
     "metadata": {
      "needs_background": "light"
     },
     "output_type": "display_data"
    }
   ],
   "source": [
    "fig, axs = plt.subplots(3, 3)\n",
    "cnt = 0\n",
    "for i in range(3):\n",
    "     for j in range(3):\n",
    "         axs[i, j].imshow(X_train[cnt])\n",
    "         cnt += 1"
   ]
  },
  {
   "cell_type": "markdown",
   "id": "5c41a22e",
   "metadata": {
    "papermill": {
     "duration": 0.009308,
     "end_time": "2022-10-20T12:28:43.873130",
     "exception": false,
     "start_time": "2022-10-20T12:28:43.863822",
     "status": "completed"
    },
    "tags": []
   },
   "source": [
    "# Normalize Data"
   ]
  },
  {
   "cell_type": "markdown",
   "id": "d9eacfd9",
   "metadata": {
    "papermill": {
     "duration": 0.009199,
     "end_time": "2022-10-20T12:28:43.891976",
     "exception": false,
     "start_time": "2022-10-20T12:28:43.882777",
     "status": "completed"
    },
    "tags": []
   },
   "source": [
    "* ***In order to make the whole data easier to process, we are going to normalize it. This means that we scale down all the values so that they end up between 0 and 1.***\n",
    "\n",
    "* ***For this we use the normalize function of keras.uitils.***"
   ]
  },
  {
   "cell_type": "code",
   "execution_count": 6,
   "id": "bc701fb0",
   "metadata": {
    "execution": {
     "iopub.execute_input": "2022-10-20T12:28:43.913581Z",
     "iopub.status.busy": "2022-10-20T12:28:43.912800Z",
     "iopub.status.idle": "2022-10-20T12:28:44.542845Z",
     "shell.execute_reply": "2022-10-20T12:28:44.541580Z"
    },
    "papermill": {
     "duration": 0.643971,
     "end_time": "2022-10-20T12:28:44.545573",
     "exception": false,
     "start_time": "2022-10-20T12:28:43.901602",
     "status": "completed"
    },
    "tags": []
   },
   "outputs": [],
   "source": [
    "X_train = tf.keras.utils.normalize(X_train, axis=1)\n",
    "X_test = tf.keras.utils.normalize(X_test, axis=1)"
   ]
  },
  {
   "cell_type": "markdown",
   "id": "f6187d38",
   "metadata": {
    "papermill": {
     "duration": 0.009277,
     "end_time": "2022-10-20T12:28:44.564810",
     "exception": false,
     "start_time": "2022-10-20T12:28:44.555533",
     "status": "completed"
    },
    "tags": []
   },
   "source": [
    "# Neural Network Building"
   ]
  },
  {
   "cell_type": "markdown",
   "id": "67ecb5b2",
   "metadata": {
    "papermill": {
     "duration": 0.009266,
     "end_time": "2022-10-20T12:28:44.583821",
     "exception": false,
     "start_time": "2022-10-20T12:28:44.574555",
     "status": "completed"
    },
    "tags": []
   },
   "source": [
    "**We use the models module from keras to create a new neural network. The Sequential constructor does this for us.**"
   ]
  },
  {
   "cell_type": "code",
   "execution_count": 7,
   "id": "6ede7d3e",
   "metadata": {
    "execution": {
     "iopub.execute_input": "2022-10-20T12:28:44.604937Z",
     "iopub.status.busy": "2022-10-20T12:28:44.604500Z",
     "iopub.status.idle": "2022-10-20T12:28:44.667486Z",
     "shell.execute_reply": "2022-10-20T12:28:44.666370Z"
    },
    "papermill": {
     "duration": 0.076839,
     "end_time": "2022-10-20T12:28:44.670320",
     "exception": false,
     "start_time": "2022-10-20T12:28:44.593481",
     "status": "completed"
    },
    "tags": []
   },
   "outputs": [
    {
     "name": "stderr",
     "output_type": "stream",
     "text": [
      "2022-10-20 12:28:44.643520: I tensorflow/core/common_runtime/process_util.cc:146] Creating new thread pool with default inter op setting: 2. Tune using inter_op_parallelism_threads for best performance.\n"
     ]
    }
   ],
   "source": [
    "model = tf.keras.models.Sequential()"
   ]
  },
  {
   "cell_type": "markdown",
   "id": "32fd2865",
   "metadata": {
    "papermill": {
     "duration": 0.009497,
     "end_time": "2022-10-20T12:28:44.689997",
     "exception": false,
     "start_time": "2022-10-20T12:28:44.680500",
     "status": "completed"
    },
    "tags": []
   },
   "source": [
    "**Now we have a model, which doesn't have any layers in it. Those have to be added manually.**"
   ]
  },
  {
   "cell_type": "code",
   "execution_count": 8,
   "id": "f38cdd9d",
   "metadata": {
    "execution": {
     "iopub.execute_input": "2022-10-20T12:28:44.711634Z",
     "iopub.status.busy": "2022-10-20T12:28:44.710561Z",
     "iopub.status.idle": "2022-10-20T12:28:44.731846Z",
     "shell.execute_reply": "2022-10-20T12:28:44.730619Z"
    },
    "papermill": {
     "duration": 0.035052,
     "end_time": "2022-10-20T12:28:44.734739",
     "exception": false,
     "start_time": "2022-10-20T12:28:44.699687",
     "status": "completed"
    },
    "tags": []
   },
   "outputs": [],
   "source": [
    "model.add(tf.keras.layers.Flatten(input_shape=(28,28)))    #input Layer"
   ]
  },
  {
   "cell_type": "markdown",
   "id": "206f441b",
   "metadata": {
    "papermill": {
     "duration": 0.009347,
     "end_time": "2022-10-20T12:28:44.753992",
     "exception": false,
     "start_time": "2022-10-20T12:28:44.744645",
     "status": "completed"
    },
    "tags": []
   },
   "source": [
    "* **We start out by adding a so-called Flatten layer as our first layer.**\n",
    "* **In order to add a layer to our model, we use the add function. Then we can choose the kind of layer that we want from the layers module.**\n",
    "* **We specified an input shape of 28x28 which represents the resolution of images.**\n",
    "* **What a flattened layer basically does is it flattens the input and makes it one dimensional. So instead of a 28x28 grid, we end up with 784 neurons lined up.**"
   ]
  },
  {
   "cell_type": "code",
   "execution_count": 9,
   "id": "ec78c4c9",
   "metadata": {
    "execution": {
     "iopub.execute_input": "2022-10-20T12:28:44.775257Z",
     "iopub.status.busy": "2022-10-20T12:28:44.774847Z",
     "iopub.status.idle": "2022-10-20T12:28:44.832491Z",
     "shell.execute_reply": "2022-10-20T12:28:44.831280Z"
    },
    "papermill": {
     "duration": 0.071598,
     "end_time": "2022-10-20T12:28:44.835389",
     "exception": false,
     "start_time": "2022-10-20T12:28:44.763791",
     "status": "completed"
    },
    "tags": []
   },
   "outputs": [],
   "source": [
    "model.add(tf.keras.layers.Dense(units=128, activation=tf.nn.relu))   # 1st hidden layer\n",
    "model.add(tf.keras.layers.Dense(units=128, activation=tf.nn.relu))   # 2nd hidden layer"
   ]
  },
  {
   "cell_type": "markdown",
   "id": "183dd02f",
   "metadata": {
    "papermill": {
     "duration": 0.009446,
     "end_time": "2022-10-20T12:28:44.854607",
     "exception": false,
     "start_time": "2022-10-20T12:28:44.845161",
     "status": "completed"
    },
    "tags": []
   },
   "source": [
    "* **We added two dense layers. These are our hidden layers and increase the complexity of our model.**\n",
    "* **Both layers have 128 neurons each.**\n",
    "* **The activation function is ReLU function.**\n",
    "* **Dense layers connect every neuron of this layer with all the neurons of the next and previous layer.**"
   ]
  },
  {
   "cell_type": "code",
   "execution_count": 10,
   "id": "b51e11c5",
   "metadata": {
    "execution": {
     "iopub.execute_input": "2022-10-20T12:28:44.876473Z",
     "iopub.status.busy": "2022-10-20T12:28:44.875806Z",
     "iopub.status.idle": "2022-10-20T12:28:44.889443Z",
     "shell.execute_reply": "2022-10-20T12:28:44.888484Z"
    },
    "papermill": {
     "duration": 0.027575,
     "end_time": "2022-10-20T12:28:44.892255",
     "exception": false,
     "start_time": "2022-10-20T12:28:44.864680",
     "status": "completed"
    },
    "tags": []
   },
   "outputs": [],
   "source": [
    "model.add(tf.keras.layers.Dense(units=10, activation=tf.nn.softmax))   # output layer"
   ]
  },
  {
   "cell_type": "markdown",
   "id": "0068be79",
   "metadata": {
    "papermill": {
     "duration": 0.009587,
     "end_time": "2022-10-20T12:28:44.911703",
     "exception": false,
     "start_time": "2022-10-20T12:28:44.902116",
     "status": "completed"
    },
    "tags": []
   },
   "source": [
    "* **Last but not least we add an output layer. This one is also a dense layer but it only has 10 neurons and a different activation function.**\n",
    "* **The values of the 10 neurons indicate how much our model believes that the respective number is the right classification.**\n",
    "* **The first neuron is for the zero, the second for the one and so on.**\n",
    "* **The activation function that we use here is the softmax function. This function scales the output values so that they all add upto one. Thus it transforms the absolute values into relative values.-**"
   ]
  },
  {
   "cell_type": "code",
   "execution_count": 11,
   "id": "61745b34",
   "metadata": {
    "execution": {
     "iopub.execute_input": "2022-10-20T12:28:44.936490Z",
     "iopub.status.busy": "2022-10-20T12:28:44.936019Z",
     "iopub.status.idle": "2022-10-20T12:28:44.943679Z",
     "shell.execute_reply": "2022-10-20T12:28:44.942140Z"
    },
    "papermill": {
     "duration": 0.023091,
     "end_time": "2022-10-20T12:28:44.946635",
     "exception": false,
     "start_time": "2022-10-20T12:28:44.923544",
     "status": "completed"
    },
    "tags": []
   },
   "outputs": [
    {
     "name": "stdout",
     "output_type": "stream",
     "text": [
      "Model: \"sequential\"\n",
      "_________________________________________________________________\n",
      "Layer (type)                 Output Shape              Param #   \n",
      "=================================================================\n",
      "flatten (Flatten)            (None, 784)               0         \n",
      "_________________________________________________________________\n",
      "dense (Dense)                (None, 128)               100480    \n",
      "_________________________________________________________________\n",
      "dense_1 (Dense)              (None, 128)               16512     \n",
      "_________________________________________________________________\n",
      "dense_2 (Dense)              (None, 10)                1290      \n",
      "=================================================================\n",
      "Total params: 118,282\n",
      "Trainable params: 118,282\n",
      "Non-trainable params: 0\n",
      "_________________________________________________________________\n"
     ]
    }
   ],
   "source": [
    "model.summary()"
   ]
  },
  {
   "cell_type": "markdown",
   "id": "74788888",
   "metadata": {
    "papermill": {
     "duration": 0.009489,
     "end_time": "2022-10-20T12:28:44.966843",
     "exception": false,
     "start_time": "2022-10-20T12:28:44.957354",
     "status": "completed"
    },
    "tags": []
   },
   "source": [
    "# Model Compiling"
   ]
  },
  {
   "cell_type": "markdown",
   "id": "60b6168c",
   "metadata": {
    "papermill": {
     "duration": 0.01001,
     "end_time": "2022-10-20T12:28:44.986878",
     "exception": false,
     "start_time": "2022-10-20T12:28:44.976868",
     "status": "completed"
    },
    "tags": []
   },
   "source": [
    "* **Before we start training and testing our model, we need to compile it first. This optimizes it and we can also choose a loss function.**\n",
    "* **An optimizer is a function or an algorithm that modifies the attributes of the neural network, such as weights and learning rate. Thus, it helps in reducing the overall loss and improve the accuracy.**"
   ]
  },
  {
   "cell_type": "code",
   "execution_count": 12,
   "id": "6a7f7812",
   "metadata": {
    "execution": {
     "iopub.execute_input": "2022-10-20T12:28:45.008747Z",
     "iopub.status.busy": "2022-10-20T12:28:45.007972Z",
     "iopub.status.idle": "2022-10-20T12:28:45.022778Z",
     "shell.execute_reply": "2022-10-20T12:28:45.021696Z"
    },
    "papermill": {
     "duration": 0.028709,
     "end_time": "2022-10-20T12:28:45.025459",
     "exception": false,
     "start_time": "2022-10-20T12:28:44.996750",
     "status": "completed"
    },
    "tags": []
   },
   "outputs": [],
   "source": [
    "model.compile(optimizer='adam', loss='sparse_categorical_crossentropy', metrics=['accuracy'])"
   ]
  },
  {
   "cell_type": "markdown",
   "id": "77f6f83b",
   "metadata": {
    "papermill": {
     "duration": 0.009749,
     "end_time": "2022-10-20T12:28:45.045465",
     "exception": false,
     "start_time": "2022-10-20T12:28:45.035716",
     "status": "completed"
    },
    "tags": []
   },
   "source": [
    "# Training and Testing"
   ]
  },
  {
   "cell_type": "markdown",
   "id": "2aec1289",
   "metadata": {
    "papermill": {
     "duration": 0.009539,
     "end_time": "2022-10-20T12:28:45.065067",
     "exception": false,
     "start_time": "2022-10-20T12:28:45.055528",
     "status": "completed"
    },
    "tags": []
   },
   "source": [
    "* **Now, we get to the essential part of the whole project - the training and testing.**\n",
    "\n",
    "* **For this, we just have to use the fit function of our model.**"
   ]
  },
  {
   "cell_type": "markdown",
   "id": "dc439d53",
   "metadata": {
    "papermill": {
     "duration": 0.009646,
     "end_time": "2022-10-20T12:28:45.084667",
     "exception": false,
     "start_time": "2022-10-20T12:28:45.075021",
     "status": "completed"
    },
    "tags": []
   },
   "source": [
    "* **epochs - This number defines how many times our model is going to see the same data over and over again.**\n",
    "\n",
    "* **batch_size - This refers to the number of training examples utilized in one iteration.**"
   ]
  },
  {
   "cell_type": "code",
   "execution_count": 13,
   "id": "c8686c3e",
   "metadata": {
    "execution": {
     "iopub.execute_input": "2022-10-20T12:28:45.106823Z",
     "iopub.status.busy": "2022-10-20T12:28:45.106419Z",
     "iopub.status.idle": "2022-10-20T12:29:07.529213Z",
     "shell.execute_reply": "2022-10-20T12:29:07.527954Z"
    },
    "papermill": {
     "duration": 22.437648,
     "end_time": "2022-10-20T12:29:07.532417",
     "exception": false,
     "start_time": "2022-10-20T12:28:45.094769",
     "status": "completed"
    },
    "tags": []
   },
   "outputs": [
    {
     "name": "stderr",
     "output_type": "stream",
     "text": [
      "2022-10-20 12:28:45.443844: I tensorflow/compiler/mlir/mlir_graph_optimization_pass.cc:185] None of the MLIR Optimization Passes are enabled (registered 2)\n"
     ]
    },
    {
     "name": "stdout",
     "output_type": "stream",
     "text": [
      "Epoch 1/10\n",
      "600/600 [==============================] - 3s 4ms/step - loss: 0.3453 - accuracy: 0.9036\n",
      "Epoch 2/10\n",
      "600/600 [==============================] - 2s 4ms/step - loss: 0.1405 - accuracy: 0.9576\n",
      "Epoch 3/10\n",
      "600/600 [==============================] - 2s 4ms/step - loss: 0.0961 - accuracy: 0.9707\n",
      "Epoch 4/10\n",
      "600/600 [==============================] - 2s 3ms/step - loss: 0.0721 - accuracy: 0.9775\n",
      "Epoch 5/10\n",
      "600/600 [==============================] - 2s 3ms/step - loss: 0.0557 - accuracy: 0.9828\n",
      "Epoch 6/10\n",
      "600/600 [==============================] - 2s 4ms/step - loss: 0.0430 - accuracy: 0.9862\n",
      "Epoch 7/10\n",
      "600/600 [==============================] - 2s 3ms/step - loss: 0.0336 - accuracy: 0.9892\n",
      "Epoch 8/10\n",
      "600/600 [==============================] - 2s 3ms/step - loss: 0.0264 - accuracy: 0.9917\n",
      "Epoch 9/10\n",
      "600/600 [==============================] - 2s 3ms/step - loss: 0.0213 - accuracy: 0.9932\n",
      "Epoch 10/10\n",
      "600/600 [==============================] - 2s 3ms/step - loss: 0.0179 - accuracy: 0.9942\n"
     ]
    },
    {
     "data": {
      "text/plain": [
       "<keras.callbacks.History at 0x7fc242643110>"
      ]
     },
     "execution_count": 13,
     "metadata": {},
     "output_type": "execute_result"
    }
   ],
   "source": [
    "model.fit(X_train, y_train, epochs=10, batch_size=100)"
   ]
  },
  {
   "cell_type": "markdown",
   "id": "8fad9fbf",
   "metadata": {
    "papermill": {
     "duration": 0.03552,
     "end_time": "2022-10-20T12:29:07.604733",
     "exception": false,
     "start_time": "2022-10-20T12:29:07.569213",
     "status": "completed"
    },
    "tags": []
   },
   "source": [
    "# Model Evalution"
   ]
  },
  {
   "cell_type": "code",
   "execution_count": 14,
   "id": "8d74867d",
   "metadata": {
    "execution": {
     "iopub.execute_input": "2022-10-20T12:29:07.677926Z",
     "iopub.status.busy": "2022-10-20T12:29:07.677493Z",
     "iopub.status.idle": "2022-10-20T12:29:08.493353Z",
     "shell.execute_reply": "2022-10-20T12:29:08.491278Z"
    },
    "papermill": {
     "duration": 0.85611,
     "end_time": "2022-10-20T12:29:08.496371",
     "exception": false,
     "start_time": "2022-10-20T12:29:07.640261",
     "status": "completed"
    },
    "tags": []
   },
   "outputs": [
    {
     "name": "stdout",
     "output_type": "stream",
     "text": [
      "313/313 [==============================] - 1s 2ms/step - loss: 0.0924 - accuracy: 0.9742\n",
      "0.09242131561040878\n",
      "0.9742000102996826\n"
     ]
    }
   ],
   "source": [
    "loss, accuracy = model.evaluate(X_test, y_test)\n",
    "print(loss)\n",
    "print(accuracy)"
   ]
  },
  {
   "cell_type": "markdown",
   "id": "c3663805",
   "metadata": {
    "papermill": {
     "duration": 0.036309,
     "end_time": "2022-10-20T12:29:08.568880",
     "exception": false,
     "start_time": "2022-10-20T12:29:08.532571",
     "status": "completed"
    },
    "tags": []
   },
   "source": [
    "# Prediction"
   ]
  },
  {
   "cell_type": "code",
   "execution_count": 15,
   "id": "3d355966",
   "metadata": {
    "execution": {
     "iopub.execute_input": "2022-10-20T12:29:08.643216Z",
     "iopub.status.busy": "2022-10-20T12:29:08.642796Z",
     "iopub.status.idle": "2022-10-20T12:29:09.195658Z",
     "shell.execute_reply": "2022-10-20T12:29:09.194685Z"
    },
    "papermill": {
     "duration": 0.593067,
     "end_time": "2022-10-20T12:29:09.198061",
     "exception": false,
     "start_time": "2022-10-20T12:29:08.604994",
     "status": "completed"
    },
    "tags": []
   },
   "outputs": [
    {
     "data": {
      "text/plain": [
       "array([[4.7008578e-11, 5.0526042e-11, 4.0836508e-09, ..., 9.9999821e-01,\n",
       "        2.6381168e-13, 1.6579496e-10],\n",
       "       [3.2271307e-11, 4.9552950e-06, 9.9999499e-01, ..., 8.3134208e-11,\n",
       "        1.1867191e-12, 6.0984261e-17],\n",
       "       [1.5437851e-10, 9.9999249e-01, 3.6846664e-08, ..., 2.8728032e-06,\n",
       "        4.2732731e-06, 3.5967548e-10],\n",
       "       ...,\n",
       "       [1.2815938e-13, 2.9345268e-09, 1.6981987e-13, ..., 1.6821353e-07,\n",
       "        8.4470334e-11, 4.7395181e-07],\n",
       "       [5.0481237e-09, 2.1566551e-09, 2.0395493e-12, ..., 4.6471182e-09,\n",
       "        7.4049075e-07, 1.3076451e-14],\n",
       "       [1.4660558e-09, 4.0506187e-10, 4.5962101e-09, ..., 1.2898908e-14,\n",
       "        4.1597886e-13, 1.8972945e-15]], dtype=float32)"
      ]
     },
     "execution_count": 15,
     "metadata": {},
     "output_type": "execute_result"
    }
   ],
   "source": [
    "prediction = model.predict([X_test])\n",
    "prediction"
   ]
  },
  {
   "cell_type": "markdown",
   "id": "d796240a",
   "metadata": {
    "papermill": {
     "duration": 0.036126,
     "end_time": "2022-10-20T12:29:09.270230",
     "exception": false,
     "start_time": "2022-10-20T12:29:09.234104",
     "status": "completed"
    },
    "tags": []
   },
   "source": [
    "* **This prediction consists of the ten activations or probabilities from the output neurons.**\n",
    "* **Since we need to generate a result out of that, we are going to use the argmax function. This function returns the index of the highest value.**\n",
    "* **In this case this is equivalent to the digit with the highest probability or activation.**"
   ]
  },
  {
   "cell_type": "code",
   "execution_count": 16,
   "id": "3bbd8893",
   "metadata": {
    "execution": {
     "iopub.execute_input": "2022-10-20T12:29:09.346723Z",
     "iopub.status.busy": "2022-10-20T12:29:09.345862Z",
     "iopub.status.idle": "2022-10-20T12:29:09.353052Z",
     "shell.execute_reply": "2022-10-20T12:29:09.351684Z"
    },
    "papermill": {
     "duration": 0.04819,
     "end_time": "2022-10-20T12:29:09.355744",
     "exception": false,
     "start_time": "2022-10-20T12:29:09.307554",
     "status": "completed"
    },
    "tags": []
   },
   "outputs": [
    {
     "name": "stdout",
     "output_type": "stream",
     "text": [
      "Probabilities:  [9.9999833e-01 1.0374537e-09 1.4604855e-08 3.6355050e-13 3.3456961e-14\n",
      " 2.6540723e-08 1.6643868e-06 1.0036932e-09 6.9890536e-16 1.2850520e-08]\n",
      "\n",
      "\n",
      "Prediction:  0\n"
     ]
    }
   ],
   "source": [
    "print('Probabilities: ', prediction[10])\n",
    "print('\\n')\n",
    "print('Prediction: ', np.argmax(prediction[10]))"
   ]
  },
  {
   "cell_type": "code",
   "execution_count": 17,
   "id": "27fa3a8e",
   "metadata": {
    "execution": {
     "iopub.execute_input": "2022-10-20T12:29:09.430712Z",
     "iopub.status.busy": "2022-10-20T12:29:09.430273Z",
     "iopub.status.idle": "2022-10-20T12:29:09.460494Z",
     "shell.execute_reply": "2022-10-20T12:29:09.459202Z"
    },
    "papermill": {
     "duration": 0.070914,
     "end_time": "2022-10-20T12:29:09.463089",
     "exception": false,
     "start_time": "2022-10-20T12:29:09.392175",
     "status": "completed"
    },
    "tags": []
   },
   "outputs": [],
   "source": [
    "hits=faults=0\n",
    "for i in range(len(prediction)):\n",
    "    if(np.argmax(prediction[i])==y_test[i]):\n",
    "        hits+=1\n",
    "hits = (hits / len(y_test)) * 100\n",
    "faults=100-hits"
   ]
  },
  {
   "cell_type": "code",
   "execution_count": 18,
   "id": "68c8dfd1",
   "metadata": {
    "execution": {
     "iopub.execute_input": "2022-10-20T12:29:09.540045Z",
     "iopub.status.busy": "2022-10-20T12:29:09.538752Z",
     "iopub.status.idle": "2022-10-20T12:29:09.659143Z",
     "shell.execute_reply": "2022-10-20T12:29:09.657320Z"
    },
    "papermill": {
     "duration": 0.164229,
     "end_time": "2022-10-20T12:29:09.664227",
     "exception": false,
     "start_time": "2022-10-20T12:29:09.499998",
     "status": "completed"
    },
    "tags": []
   },
   "outputs": [
    {
     "data": {
      "image/png": "[encoded data removed]",
      "text/plain": [
       "<Figure size 432x288 with 1 Axes>"
      ]
     },
     "metadata": {},
     "output_type": "display_data"
    }
   ],
   "source": [
    "graph=[hits,faults]\n",
    "labels = 'Hits', 'Faults';\n",
    "sizes = [90.0, 10.0]\n",
    "explode = (0, 0.24)\n",
    "\n",
    "fig1, ax1 = plt.subplots();\n",
    "ax1.pie(graph,colors=['orange','red'],labels=labels, autopct='%1.3f%%',startangle=80)\n",
    "ax1.axis('equal')\n",
    "plt.show()"
   ]
  },
  {
   "cell_type": "markdown",
   "id": "99d85957",
   "metadata": {
    "papermill": {
     "duration": 0.036834,
     "end_time": "2022-10-20T12:29:09.783459",
     "exception": false,
     "start_time": "2022-10-20T12:29:09.746625",
     "status": "completed"
    },
    "tags": []
   },
   "source": [
    "# visualize the image"
   ]
  },
  {
   "cell_type": "code",
   "execution_count": 19,
   "id": "5e68660d",
   "metadata": {
    "execution": {
     "iopub.execute_input": "2022-10-20T12:29:09.858672Z",
     "iopub.status.busy": "2022-10-20T12:29:09.858191Z",
     "iopub.status.idle": "2022-10-20T12:29:10.060450Z",
     "shell.execute_reply": "2022-10-20T12:29:10.059233Z"
    },
    "papermill": {
     "duration": 0.242686,
     "end_time": "2022-10-20T12:29:10.062918",
     "exception": false,
     "start_time": "2022-10-20T12:29:09.820232",
     "status": "completed"
    },
    "tags": []
   },
   "outputs": [
    {
     "data": {
      "image/png": "[encoded data removed]",
      "text/plain": [
       "<Figure size 432x288 with 1 Axes>"
      ]
     },
     "metadata": {
      "needs_background": "light"
     },
     "output_type": "display_data"
    }
   ],
   "source": [
    "plt.imshow(X_test[10])\n",
    "plt.show()"
   ]
  },
  {
   "cell_type": "markdown",
   "id": "3761b77a",
   "metadata": {
    "papermill": {
     "duration": 0.036927,
     "end_time": "2022-10-20T12:29:10.137208",
     "exception": false,
     "start_time": "2022-10-20T12:29:10.100281",
     "status": "completed"
    },
    "tags": []
   },
   "source": [
    "**Hence my model performs with an accuracy of 97%**"
   ]
  }
 ],
 "metadata": {
  "kernelspec": {
   "display_name": "Python 3",
   "language": "python",
   "name": "python3"
  },
  "language_info": {
   "codemirror_mode": {
    "name": "ipython",
    "version": 3
   },
   "file_extension": ".py",
   "mimetype": "text/x-python",
   "name": "python",
   "nbconvert_exporter": "python",
   "pygments_lexer": "ipython3",
   "version": "3.7.12"
  },
  "papermill": {
   "default_parameters": {},
   "duration": 48.231584,
   "end_time": "2022-10-20T12:29:13.297768",
   "environment_variables": {},
   "exception": null,
   "input_path": "__notebook__.ipynb",
   "output_path": "__notebook__.ipynb",
   "parameters": {},
   "start_time": "2022-10-20T12:28:25.066184",
   "version": "2.3.4"
  }
 },
 "nbformat": 4,
 "nbformat_minor": 5
}
